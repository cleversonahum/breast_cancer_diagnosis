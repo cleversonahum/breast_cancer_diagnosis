{
 "cells": [
  {
   "cell_type": "code",
   "execution_count": 1,
   "metadata": {},
   "outputs": [
    {
     "name": "stdout",
     "output_type": "stream",
     "text": [
      "Dataset shape:  (699, 11)\n",
      "ID                         int64\n",
      "Clump                      int64\n",
      "U_Cell_size                int64\n",
      "U_Cell_shape               int64\n",
      "Marginal_Adhesion          int64\n",
      "SE_epitelial_cell_size     int64\n",
      "Bare_nuclei               object\n",
      "bland_chromatin            int64\n",
      "Normal_Nucleoli            int64\n",
      "Mitoses                    int64\n",
      "Class                      int64\n",
      "dtype: object\n"
     ]
    },
    {
     "data": {
      "text/html": [
       "<div>\n",
       "<style scoped>\n",
       "    .dataframe tbody tr th:only-of-type {\n",
       "        vertical-align: middle;\n",
       "    }\n",
       "\n",
       "    .dataframe tbody tr th {\n",
       "        vertical-align: top;\n",
       "    }\n",
       "\n",
       "    .dataframe thead th {\n",
       "        text-align: right;\n",
       "    }\n",
       "</style>\n",
       "<table border=\"1\" class=\"dataframe\">\n",
       "  <thead>\n",
       "    <tr style=\"text-align: right;\">\n",
       "      <th></th>\n",
       "      <th>ID</th>\n",
       "      <th>Clump</th>\n",
       "      <th>U_Cell_size</th>\n",
       "      <th>U_Cell_shape</th>\n",
       "      <th>Marginal_Adhesion</th>\n",
       "      <th>SE_epitelial_cell_size</th>\n",
       "      <th>Bare_nuclei</th>\n",
       "      <th>bland_chromatin</th>\n",
       "      <th>Normal_Nucleoli</th>\n",
       "      <th>Mitoses</th>\n",
       "      <th>Class</th>\n",
       "    </tr>\n",
       "  </thead>\n",
       "  <tbody>\n",
       "    <tr>\n",
       "      <th>0</th>\n",
       "      <td>1000025</td>\n",
       "      <td>5</td>\n",
       "      <td>1</td>\n",
       "      <td>1</td>\n",
       "      <td>1</td>\n",
       "      <td>2</td>\n",
       "      <td>1</td>\n",
       "      <td>3</td>\n",
       "      <td>1</td>\n",
       "      <td>1</td>\n",
       "      <td>2</td>\n",
       "    </tr>\n",
       "    <tr>\n",
       "      <th>1</th>\n",
       "      <td>1002945</td>\n",
       "      <td>5</td>\n",
       "      <td>4</td>\n",
       "      <td>4</td>\n",
       "      <td>5</td>\n",
       "      <td>7</td>\n",
       "      <td>10</td>\n",
       "      <td>3</td>\n",
       "      <td>2</td>\n",
       "      <td>1</td>\n",
       "      <td>2</td>\n",
       "    </tr>\n",
       "    <tr>\n",
       "      <th>2</th>\n",
       "      <td>1015425</td>\n",
       "      <td>3</td>\n",
       "      <td>1</td>\n",
       "      <td>1</td>\n",
       "      <td>1</td>\n",
       "      <td>2</td>\n",
       "      <td>2</td>\n",
       "      <td>3</td>\n",
       "      <td>1</td>\n",
       "      <td>1</td>\n",
       "      <td>2</td>\n",
       "    </tr>\n",
       "    <tr>\n",
       "      <th>3</th>\n",
       "      <td>1016277</td>\n",
       "      <td>6</td>\n",
       "      <td>8</td>\n",
       "      <td>8</td>\n",
       "      <td>1</td>\n",
       "      <td>3</td>\n",
       "      <td>4</td>\n",
       "      <td>3</td>\n",
       "      <td>7</td>\n",
       "      <td>1</td>\n",
       "      <td>2</td>\n",
       "    </tr>\n",
       "    <tr>\n",
       "      <th>4</th>\n",
       "      <td>1017023</td>\n",
       "      <td>4</td>\n",
       "      <td>1</td>\n",
       "      <td>1</td>\n",
       "      <td>3</td>\n",
       "      <td>2</td>\n",
       "      <td>1</td>\n",
       "      <td>3</td>\n",
       "      <td>1</td>\n",
       "      <td>1</td>\n",
       "      <td>2</td>\n",
       "    </tr>\n",
       "  </tbody>\n",
       "</table>\n",
       "</div>"
      ],
      "text/plain": [
       "        ID  Clump  U_Cell_size  U_Cell_shape  Marginal_Adhesion  \\\n",
       "0  1000025      5            1             1                  1   \n",
       "1  1002945      5            4             4                  5   \n",
       "2  1015425      3            1             1                  1   \n",
       "3  1016277      6            8             8                  1   \n",
       "4  1017023      4            1             1                  3   \n",
       "\n",
       "   SE_epitelial_cell_size Bare_nuclei  bland_chromatin  Normal_Nucleoli  \\\n",
       "0                       2           1                3                1   \n",
       "1                       7          10                3                2   \n",
       "2                       2           2                3                1   \n",
       "3                       3           4                3                7   \n",
       "4                       2           1                3                1   \n",
       "\n",
       "   Mitoses  Class  \n",
       "0        1      2  \n",
       "1        1      2  \n",
       "2        1      2  \n",
       "3        1      2  \n",
       "4        1      2  "
      ]
     },
     "execution_count": 1,
     "metadata": {},
     "output_type": "execute_result"
    }
   ],
   "source": [
    "# Reading the dataset\n",
    "import pandas as pd\n",
    "import numpy as np\n",
    "import seaborn as sns\n",
    "\n",
    "import matplotlib.pyplot as plt\n",
    "from sklearn import tree\n",
    "from sklearn.ensemble import RandomForestClassifier\n",
    "from sklearn.neighbors import KNeighborsClassifier\n",
    "from sklearn.model_selection import train_test_split, KFold\n",
    "from sklearn.metrics import accuracy_score, confusion_matrix, roc_curve, auc, roc_auc_score\n",
    "\n",
    "data_csv = \"../breast-cancer-wisconsin.csv\"\n",
    "df = pd.read_csv(data_csv, names=['ID','Clump','U_Cell_size','U_Cell_shape','Marginal_Adhesion','SE_epitelial_cell_size','Bare_nuclei','bland_chromatin','Normal_Nucleoli','Mitoses','Class'])\n",
    "print('Dataset shape: ', df.shape)\n",
    "print(df.dtypes)\n",
    "df.head()"
   ]
  },
  {
   "cell_type": "markdown",
   "metadata": {},
   "source": [
    "#  Attribute                     Domain\n",
    "-- -----------------------------------------\n",
    "1. Sample code number            id number\n",
    "2. Clump Thickness               1 - 10\n",
    "3. Uniformity of Cell Size       1 - 10\n",
    "4. Uniformity of Cell Shape      1 - 10\n",
    "5. Marginal Adhesion             1 - 10\n",
    "6. Single Epithelial Cell Size   1 - 10\n",
    "7. Bare Nuclei                   1 - 10\n",
    "8. Bland Chromatin               1 - 10\n",
    "9. Normal Nucleoli               1 - 10\n",
    "10. Mitoses                       1 - 10\n",
    "11. Class:                        (0 for benign, 1 for malignant)"
   ]
  },
  {
   "cell_type": "code",
   "execution_count": 2,
   "metadata": {},
   "outputs": [
    {
     "name": "stdout",
     "output_type": "stream",
     "text": [
      "Empty DataFrame\n",
      "Columns: []\n",
      "Index: []\n",
      "16\n",
      "0\n",
      "New dataset shape:  (683, 10)\n"
     ]
    }
   ],
   "source": [
    "null_columns=df.columns[df.isnull().any()]\n",
    "print(df[df.isnull().any(axis=1)][null_columns].head())\n",
    "# Change bare nuclei values to numeric only and check the numbers of NAN\n",
    "df['Bare_nuclei'] = pd.to_numeric(df['Bare_nuclei'], errors='coerce', downcast='integer')\n",
    "print(df['Bare_nuclei'].isnull().values.sum())\n",
    "\n",
    "# Drop the lines with null values\n",
    "df = df.dropna()\n",
    "print(df['Bare_nuclei'].isnull().values.sum())\n",
    "\n",
    "# Removing ID column since it won't be considered to the training\n",
    "df.pop('ID')\n",
    "\n",
    "# So, the dataset removing null values and ID column has the size:\n",
    "print('New dataset shape: ', df.shape)"
   ]
  },
  {
   "cell_type": "code",
   "execution_count": 3,
   "metadata": {},
   "outputs": [
    {
     "name": "stdout",
     "output_type": "stream",
     "text": [
      "Clump \n",
      "Min Value:   1 \n",
      "Max Value:  10 \n",
      "\n",
      "\n",
      "U_Cell_size \n",
      "Min Value:   1 \n",
      "Max Value:  10 \n",
      "\n",
      "\n",
      "U_Cell_shape \n",
      "Min Value:   1 \n",
      "Max Value:  10 \n",
      "\n",
      "\n",
      "Marginal_Adhesion \n",
      "Min Value:   1 \n",
      "Max Value:  10 \n",
      "\n",
      "\n",
      "SE_epitelial_cell_size \n",
      "Min Value:   1 \n",
      "Max Value:  10 \n",
      "\n",
      "\n",
      "Bare_nuclei \n",
      "Min Value:   1.0 \n",
      "Max Value:  10.0 \n",
      "\n",
      "\n",
      "bland_chromatin \n",
      "Min Value:   1 \n",
      "Max Value:  10 \n",
      "\n",
      "\n",
      "Normal_Nucleoli \n",
      "Min Value:   1 \n",
      "Max Value:  10 \n",
      "\n",
      "\n",
      "Mitoses \n",
      "Min Value:   1 \n",
      "Max Value:  10 \n",
      "\n",
      "\n",
      "Class \n",
      "Min Value:   2 \n",
      "Max Value:  4 \n",
      "\n",
      "\n"
     ]
    }
   ],
   "source": [
    "#Values distribution\n",
    "for name, values in df.iteritems():\n",
    "    print (name, '\\nMin Value:  ', np.min(values), '\\nMax Value: ', np.max(values), '\\n\\n')"
   ]
  },
  {
   "cell_type": "code",
   "execution_count": 4,
   "metadata": {},
   "outputs": [
    {
     "name": "stdout",
     "output_type": "stream",
     "text": [
      "Class\n",
      "Min Value:   0 \n",
      "Max Value:  1 \n",
      "\n",
      "\n"
     ]
    }
   ],
   "source": [
    "# Changing Class label from 2 or 4 to 0 or 1\n",
    "df.loc[:, 'Class'] = np.where(df['Class']==2, 0, 1)\n",
    "print ('Class\\nMin Value:  ', np.min(df['Class']), '\\nMax Value: ', np.max(df['Class']), '\\n\\n')"
   ]
  },
  {
   "cell_type": "code",
   "execution_count": 5,
   "metadata": {},
   "outputs": [
    {
     "name": "stdout",
     "output_type": "stream",
     "text": [
      "Total     = 683 -> 100%\n",
      "Benign    = 444 -> 65.00732064421669%\n",
      "Malignant = 239 -> 34.99267935578331%\n"
     ]
    }
   ],
   "source": [
    "print(f\"Total     = {len(df)} -> 100%\")\n",
    "print(f\"Benign    = {len(df[df.Class == 0])} -> {len(df[df.Class == 0])/len(df) *100}%\")\n",
    "print(f\"Malignant = {len(df[df.Class == 1])} -> {len(df[df.Class == 1])/len(df) *100}%\")"
   ]
  },
  {
   "cell_type": "markdown",
   "metadata": {},
   "source": [
    "# Atributes correlation for benign and malignant samples"
   ]
  },
  {
   "cell_type": "code",
   "execution_count": 6,
   "metadata": {},
   "outputs": [
    {
     "data": {
      "text/html": [
       "<div>\n",
       "<style scoped>\n",
       "    .dataframe tbody tr th:only-of-type {\n",
       "        vertical-align: middle;\n",
       "    }\n",
       "\n",
       "    .dataframe tbody tr th {\n",
       "        vertical-align: top;\n",
       "    }\n",
       "\n",
       "    .dataframe thead th {\n",
       "        text-align: right;\n",
       "    }\n",
       "</style>\n",
       "<table border=\"1\" class=\"dataframe\">\n",
       "  <thead>\n",
       "    <tr style=\"text-align: right;\">\n",
       "      <th></th>\n",
       "      <th>Clump</th>\n",
       "      <th>U_Cell_size</th>\n",
       "      <th>U_Cell_shape</th>\n",
       "      <th>Marginal_Adhesion</th>\n",
       "      <th>SE_epitelial_cell_size</th>\n",
       "      <th>Bare_nuclei</th>\n",
       "      <th>bland_chromatin</th>\n",
       "      <th>Normal_Nucleoli</th>\n",
       "      <th>Mitoses</th>\n",
       "    </tr>\n",
       "  </thead>\n",
       "  <tbody>\n",
       "    <tr>\n",
       "      <th>Clump</th>\n",
       "      <td>1.000000</td>\n",
       "      <td>0.275855</td>\n",
       "      <td>0.298429</td>\n",
       "      <td>0.255388</td>\n",
       "      <td>0.158063</td>\n",
       "      <td>0.115207</td>\n",
       "      <td>0.100785</td>\n",
       "      <td>0.205244</td>\n",
       "      <td>-0.039594</td>\n",
       "    </tr>\n",
       "    <tr>\n",
       "      <th>U_Cell_size</th>\n",
       "      <td>0.275855</td>\n",
       "      <td>1.000000</td>\n",
       "      <td>0.696421</td>\n",
       "      <td>0.281418</td>\n",
       "      <td>0.409948</td>\n",
       "      <td>0.461013</td>\n",
       "      <td>0.264898</td>\n",
       "      <td>0.487685</td>\n",
       "      <td>0.047185</td>\n",
       "    </tr>\n",
       "    <tr>\n",
       "      <th>U_Cell_shape</th>\n",
       "      <td>0.298429</td>\n",
       "      <td>0.696421</td>\n",
       "      <td>1.000000</td>\n",
       "      <td>0.239653</td>\n",
       "      <td>0.344502</td>\n",
       "      <td>0.358815</td>\n",
       "      <td>0.194651</td>\n",
       "      <td>0.390216</td>\n",
       "      <td>-0.000083</td>\n",
       "    </tr>\n",
       "    <tr>\n",
       "      <th>Marginal_Adhesion</th>\n",
       "      <td>0.255388</td>\n",
       "      <td>0.281418</td>\n",
       "      <td>0.239653</td>\n",
       "      <td>1.000000</td>\n",
       "      <td>0.292839</td>\n",
       "      <td>0.373200</td>\n",
       "      <td>0.116239</td>\n",
       "      <td>0.254664</td>\n",
       "      <td>0.062491</td>\n",
       "    </tr>\n",
       "    <tr>\n",
       "      <th>SE_epitelial_cell_size</th>\n",
       "      <td>0.158063</td>\n",
       "      <td>0.409948</td>\n",
       "      <td>0.344502</td>\n",
       "      <td>0.292839</td>\n",
       "      <td>1.000000</td>\n",
       "      <td>0.332888</td>\n",
       "      <td>0.152628</td>\n",
       "      <td>0.437988</td>\n",
       "      <td>-0.015829</td>\n",
       "    </tr>\n",
       "    <tr>\n",
       "      <th>Bare_nuclei</th>\n",
       "      <td>0.115207</td>\n",
       "      <td>0.461013</td>\n",
       "      <td>0.358815</td>\n",
       "      <td>0.373200</td>\n",
       "      <td>0.332888</td>\n",
       "      <td>1.000000</td>\n",
       "      <td>0.205968</td>\n",
       "      <td>0.308704</td>\n",
       "      <td>0.120092</td>\n",
       "    </tr>\n",
       "    <tr>\n",
       "      <th>bland_chromatin</th>\n",
       "      <td>0.100785</td>\n",
       "      <td>0.264898</td>\n",
       "      <td>0.194651</td>\n",
       "      <td>0.116239</td>\n",
       "      <td>0.152628</td>\n",
       "      <td>0.205968</td>\n",
       "      <td>1.000000</td>\n",
       "      <td>0.343546</td>\n",
       "      <td>-0.043424</td>\n",
       "    </tr>\n",
       "    <tr>\n",
       "      <th>Normal_Nucleoli</th>\n",
       "      <td>0.205244</td>\n",
       "      <td>0.487685</td>\n",
       "      <td>0.390216</td>\n",
       "      <td>0.254664</td>\n",
       "      <td>0.437988</td>\n",
       "      <td>0.308704</td>\n",
       "      <td>0.343546</td>\n",
       "      <td>1.000000</td>\n",
       "      <td>0.057632</td>\n",
       "    </tr>\n",
       "    <tr>\n",
       "      <th>Mitoses</th>\n",
       "      <td>-0.039594</td>\n",
       "      <td>0.047185</td>\n",
       "      <td>-0.000083</td>\n",
       "      <td>0.062491</td>\n",
       "      <td>-0.015829</td>\n",
       "      <td>0.120092</td>\n",
       "      <td>-0.043424</td>\n",
       "      <td>0.057632</td>\n",
       "      <td>1.000000</td>\n",
       "    </tr>\n",
       "  </tbody>\n",
       "</table>\n",
       "</div>"
      ],
      "text/plain": [
       "                           Clump  U_Cell_size  U_Cell_shape  \\\n",
       "Clump                   1.000000     0.275855      0.298429   \n",
       "U_Cell_size             0.275855     1.000000      0.696421   \n",
       "U_Cell_shape            0.298429     0.696421      1.000000   \n",
       "Marginal_Adhesion       0.255388     0.281418      0.239653   \n",
       "SE_epitelial_cell_size  0.158063     0.409948      0.344502   \n",
       "Bare_nuclei             0.115207     0.461013      0.358815   \n",
       "bland_chromatin         0.100785     0.264898      0.194651   \n",
       "Normal_Nucleoli         0.205244     0.487685      0.390216   \n",
       "Mitoses                -0.039594     0.047185     -0.000083   \n",
       "\n",
       "                        Marginal_Adhesion  SE_epitelial_cell_size  \\\n",
       "Clump                            0.255388                0.158063   \n",
       "U_Cell_size                      0.281418                0.409948   \n",
       "U_Cell_shape                     0.239653                0.344502   \n",
       "Marginal_Adhesion                1.000000                0.292839   \n",
       "SE_epitelial_cell_size           0.292839                1.000000   \n",
       "Bare_nuclei                      0.373200                0.332888   \n",
       "bland_chromatin                  0.116239                0.152628   \n",
       "Normal_Nucleoli                  0.254664                0.437988   \n",
       "Mitoses                          0.062491               -0.015829   \n",
       "\n",
       "                        Bare_nuclei  bland_chromatin  Normal_Nucleoli  \\\n",
       "Clump                      0.115207         0.100785         0.205244   \n",
       "U_Cell_size                0.461013         0.264898         0.487685   \n",
       "U_Cell_shape               0.358815         0.194651         0.390216   \n",
       "Marginal_Adhesion          0.373200         0.116239         0.254664   \n",
       "SE_epitelial_cell_size     0.332888         0.152628         0.437988   \n",
       "Bare_nuclei                1.000000         0.205968         0.308704   \n",
       "bland_chromatin            0.205968         1.000000         0.343546   \n",
       "Normal_Nucleoli            0.308704         0.343546         1.000000   \n",
       "Mitoses                    0.120092        -0.043424         0.057632   \n",
       "\n",
       "                         Mitoses  \n",
       "Clump                  -0.039594  \n",
       "U_Cell_size             0.047185  \n",
       "U_Cell_shape           -0.000083  \n",
       "Marginal_Adhesion       0.062491  \n",
       "SE_epitelial_cell_size -0.015829  \n",
       "Bare_nuclei             0.120092  \n",
       "bland_chromatin        -0.043424  \n",
       "Normal_Nucleoli         0.057632  \n",
       "Mitoses                 1.000000  "
      ]
     },
     "execution_count": 6,
     "metadata": {},
     "output_type": "execute_result"
    }
   ],
   "source": [
    "# Correlation benign samples\n",
    "corr_mat_benign = df.loc[df.Class == 0].drop(['Class'], axis=1).corr()\n",
    "corr_mat_benign"
   ]
  },
  {
   "cell_type": "code",
   "execution_count": 7,
   "metadata": {},
   "outputs": [
    {
     "data": {
      "image/png": "[encoded data removed]",
      "text/plain": [
       "<Figure size 432x288 with 2 Axes>"
      ]
     },
     "metadata": {
      "needs_background": "light"
     },
     "output_type": "display_data"
    }
   ],
   "source": [
    "plt.figure()\n",
    "ax = sns.heatmap(corr_mat_benign, linewidth=0.5)\n",
    "plt.show()"
   ]
  },
  {
   "cell_type": "code",
   "execution_count": 8,
   "metadata": {},
   "outputs": [
    {
     "data": {
      "text/html": [
       "<div>\n",
       "<style scoped>\n",
       "    .dataframe tbody tr th:only-of-type {\n",
       "        vertical-align: middle;\n",
       "    }\n",
       "\n",
       "    .dataframe tbody tr th {\n",
       "        vertical-align: top;\n",
       "    }\n",
       "\n",
       "    .dataframe thead th {\n",
       "        text-align: right;\n",
       "    }\n",
       "</style>\n",
       "<table border=\"1\" class=\"dataframe\">\n",
       "  <thead>\n",
       "    <tr style=\"text-align: right;\">\n",
       "      <th></th>\n",
       "      <th>Clump</th>\n",
       "      <th>U_Cell_size</th>\n",
       "      <th>U_Cell_shape</th>\n",
       "      <th>Marginal_Adhesion</th>\n",
       "      <th>SE_epitelial_cell_size</th>\n",
       "      <th>Bare_nuclei</th>\n",
       "      <th>bland_chromatin</th>\n",
       "      <th>Normal_Nucleoli</th>\n",
       "      <th>Mitoses</th>\n",
       "    </tr>\n",
       "  </thead>\n",
       "  <tbody>\n",
       "    <tr>\n",
       "      <th>Clump</th>\n",
       "      <td>1.000000</td>\n",
       "      <td>0.097438</td>\n",
       "      <td>0.112548</td>\n",
       "      <td>-0.144148</td>\n",
       "      <td>0.017152</td>\n",
       "      <td>-0.036078</td>\n",
       "      <td>-0.018025</td>\n",
       "      <td>-0.013174</td>\n",
       "      <td>0.118206</td>\n",
       "    </tr>\n",
       "    <tr>\n",
       "      <th>U_Cell_size</th>\n",
       "      <td>0.097438</td>\n",
       "      <td>1.000000</td>\n",
       "      <td>0.720782</td>\n",
       "      <td>0.320449</td>\n",
       "      <td>0.460828</td>\n",
       "      <td>-0.039891</td>\n",
       "      <td>0.388866</td>\n",
       "      <td>0.299189</td>\n",
       "      <td>0.241080</td>\n",
       "    </tr>\n",
       "    <tr>\n",
       "      <th>U_Cell_shape</th>\n",
       "      <td>0.112548</td>\n",
       "      <td>0.720782</td>\n",
       "      <td>1.000000</td>\n",
       "      <td>0.267325</td>\n",
       "      <td>0.383091</td>\n",
       "      <td>0.052947</td>\n",
       "      <td>0.338472</td>\n",
       "      <td>0.309652</td>\n",
       "      <td>0.209983</td>\n",
       "    </tr>\n",
       "    <tr>\n",
       "      <th>Marginal_Adhesion</th>\n",
       "      <td>-0.144148</td>\n",
       "      <td>0.320449</td>\n",
       "      <td>0.267325</td>\n",
       "      <td>1.000000</td>\n",
       "      <td>0.192775</td>\n",
       "      <td>0.193632</td>\n",
       "      <td>0.337764</td>\n",
       "      <td>0.184831</td>\n",
       "      <td>0.201249</td>\n",
       "    </tr>\n",
       "    <tr>\n",
       "      <th>SE_epitelial_cell_size</th>\n",
       "      <td>0.017152</td>\n",
       "      <td>0.460828</td>\n",
       "      <td>0.383091</td>\n",
       "      <td>0.192775</td>\n",
       "      <td>1.000000</td>\n",
       "      <td>-0.031428</td>\n",
       "      <td>0.216225</td>\n",
       "      <td>0.231148</td>\n",
       "      <td>0.333305</td>\n",
       "    </tr>\n",
       "    <tr>\n",
       "      <th>Bare_nuclei</th>\n",
       "      <td>-0.036078</td>\n",
       "      <td>-0.039891</td>\n",
       "      <td>0.052947</td>\n",
       "      <td>0.193632</td>\n",
       "      <td>-0.031428</td>\n",
       "      <td>1.000000</td>\n",
       "      <td>0.136894</td>\n",
       "      <td>-0.083194</td>\n",
       "      <td>-0.037522</td>\n",
       "    </tr>\n",
       "    <tr>\n",
       "      <th>bland_chromatin</th>\n",
       "      <td>-0.018025</td>\n",
       "      <td>0.388866</td>\n",
       "      <td>0.338472</td>\n",
       "      <td>0.337764</td>\n",
       "      <td>0.216225</td>\n",
       "      <td>0.136894</td>\n",
       "      <td>1.000000</td>\n",
       "      <td>0.253494</td>\n",
       "      <td>0.059304</td>\n",
       "    </tr>\n",
       "    <tr>\n",
       "      <th>Normal_Nucleoli</th>\n",
       "      <td>-0.013174</td>\n",
       "      <td>0.299189</td>\n",
       "      <td>0.309652</td>\n",
       "      <td>0.184831</td>\n",
       "      <td>0.231148</td>\n",
       "      <td>-0.083194</td>\n",
       "      <td>0.253494</td>\n",
       "      <td>1.000000</td>\n",
       "      <td>0.222353</td>\n",
       "    </tr>\n",
       "    <tr>\n",
       "      <th>Mitoses</th>\n",
       "      <td>0.118206</td>\n",
       "      <td>0.241080</td>\n",
       "      <td>0.209983</td>\n",
       "      <td>0.201249</td>\n",
       "      <td>0.333305</td>\n",
       "      <td>-0.037522</td>\n",
       "      <td>0.059304</td>\n",
       "      <td>0.222353</td>\n",
       "      <td>1.000000</td>\n",
       "    </tr>\n",
       "  </tbody>\n",
       "</table>\n",
       "</div>"
      ],
      "text/plain": [
       "                           Clump  U_Cell_size  U_Cell_shape  \\\n",
       "Clump                   1.000000     0.097438      0.112548   \n",
       "U_Cell_size             0.097438     1.000000      0.720782   \n",
       "U_Cell_shape            0.112548     0.720782      1.000000   \n",
       "Marginal_Adhesion      -0.144148     0.320449      0.267325   \n",
       "SE_epitelial_cell_size  0.017152     0.460828      0.383091   \n",
       "Bare_nuclei            -0.036078    -0.039891      0.052947   \n",
       "bland_chromatin        -0.018025     0.388866      0.338472   \n",
       "Normal_Nucleoli        -0.013174     0.299189      0.309652   \n",
       "Mitoses                 0.118206     0.241080      0.209983   \n",
       "\n",
       "                        Marginal_Adhesion  SE_epitelial_cell_size  \\\n",
       "Clump                           -0.144148                0.017152   \n",
       "U_Cell_size                      0.320449                0.460828   \n",
       "U_Cell_shape                     0.267325                0.383091   \n",
       "Marginal_Adhesion                1.000000                0.192775   \n",
       "SE_epitelial_cell_size           0.192775                1.000000   \n",
       "Bare_nuclei                      0.193632               -0.031428   \n",
       "bland_chromatin                  0.337764                0.216225   \n",
       "Normal_Nucleoli                  0.184831                0.231148   \n",
       "Mitoses                          0.201249                0.333305   \n",
       "\n",
       "                        Bare_nuclei  bland_chromatin  Normal_Nucleoli  \\\n",
       "Clump                     -0.036078        -0.018025        -0.013174   \n",
       "U_Cell_size               -0.039891         0.388866         0.299189   \n",
       "U_Cell_shape               0.052947         0.338472         0.309652   \n",
       "Marginal_Adhesion          0.193632         0.337764         0.184831   \n",
       "SE_epitelial_cell_size    -0.031428         0.216225         0.231148   \n",
       "Bare_nuclei                1.000000         0.136894        -0.083194   \n",
       "bland_chromatin            0.136894         1.000000         0.253494   \n",
       "Normal_Nucleoli           -0.083194         0.253494         1.000000   \n",
       "Mitoses                   -0.037522         0.059304         0.222353   \n",
       "\n",
       "                         Mitoses  \n",
       "Clump                   0.118206  \n",
       "U_Cell_size             0.241080  \n",
       "U_Cell_shape            0.209983  \n",
       "Marginal_Adhesion       0.201249  \n",
       "SE_epitelial_cell_size  0.333305  \n",
       "Bare_nuclei            -0.037522  \n",
       "bland_chromatin         0.059304  \n",
       "Normal_Nucleoli         0.222353  \n",
       "Mitoses                 1.000000  "
      ]
     },
     "execution_count": 8,
     "metadata": {},
     "output_type": "execute_result"
    }
   ],
   "source": [
    "corr_mat_malignant = df.loc[df.Class == 1].drop(['Class'], axis=1).corr()\n",
    "corr_mat_malignant"
   ]
  },
  {
   "cell_type": "code",
   "execution_count": 9,
   "metadata": {},
   "outputs": [
    {
     "data": {
      "image/png": "[encoded data removed]",
      "text/plain": [
       "<Figure size 432x288 with 2 Axes>"
      ]
     },
     "metadata": {
      "needs_background": "light"
     },
     "output_type": "display_data"
    }
   ],
   "source": [
    "plt.figure()\n",
    "ax = sns.heatmap(corr_mat_malignant, linewidth=0.5)\n",
    "plt.show()"
   ]
  },
  {
   "cell_type": "code",
   "execution_count": 10,
   "metadata": {},
   "outputs": [
    {
     "name": "stdout",
     "output_type": "stream",
     "text": [
      "(683, 9)\n",
      "(683,)\n"
     ]
    }
   ],
   "source": [
    "# Separate entries from outputs\n",
    "dataset = df.to_numpy(dtype=np.int) # Converting from Pandas dataframe to Numpy\n",
    "entries = dataset[:, 0:9]\n",
    "outputs = dataset[:, 9]\n",
    "print(entries.shape)\n",
    "print(outputs.shape)\n"
   ]
  },
  {
   "cell_type": "code",
   "execution_count": 11,
   "metadata": {},
   "outputs": [
    {
     "name": "stdout",
     "output_type": "stream",
     "text": [
      "Train dataset shape:\n",
      "Entries:  (450, 9) \n",
      "Output:  (450,) \n",
      "\n",
      "\n",
      "Test dataset shape:\n",
      "Entries:  (233, 9) \n",
      "Output:  (233,)\n"
     ]
    }
   ],
   "source": [
    "# Split dataset between train and test\n",
    "seed = 10 # Set seed to get invariant results\n",
    "test_size = 0.34\n",
    "x_train, x_test, y_train, y_test = train_test_split(entries, outputs, test_size=test_size, random_state=seed)\n",
    "print('Train dataset shape:\\nEntries: ', x_train.shape, '\\nOutput: ', y_train.shape, '\\n\\n')\n",
    "print('Test dataset shape:\\nEntries: ', x_test.shape, '\\nOutput: ', y_test.shape)"
   ]
  },
  {
   "cell_type": "code",
   "execution_count": 12,
   "metadata": {},
   "outputs": [],
   "source": [
    "# Create 10-fold validation set for training\n",
    "K = 10\n",
    "kf = KFold(n_splits=10, shuffle=True, random_state=seed)"
   ]
  },
  {
   "cell_type": "markdown",
   "metadata": {},
   "source": [
    "# Decision Tree Classifier"
   ]
  },
  {
   "cell_type": "code",
   "execution_count": 13,
   "metadata": {},
   "outputs": [],
   "source": [
    "# Decision Tree classifier\n",
    "dt = tree.DecisionTreeClassifier(random_state=seed)"
   ]
  },
  {
   "cell_type": "markdown",
   "metadata": {},
   "source": [
    "# Random Forest Classifier"
   ]
  },
  {
   "cell_type": "code",
   "execution_count": 14,
   "metadata": {},
   "outputs": [],
   "source": [
    "# Random forest classifier\n",
    "rf = RandomForestClassifier(n_estimators=20, random_state=seed)"
   ]
  },
  {
   "cell_type": "markdown",
   "metadata": {},
   "source": [
    "# K-Nearest neighbor classifier"
   ]
  },
  {
   "cell_type": "code",
   "execution_count": 15,
   "metadata": {},
   "outputs": [],
   "source": [
    "neigh = KNeighborsClassifier()"
   ]
  },
  {
   "cell_type": "markdown",
   "metadata": {},
   "source": [
    "# Organizing classifiers"
   ]
  },
  {
   "cell_type": "code",
   "execution_count": 16,
   "metadata": {},
   "outputs": [],
   "source": [
    "classifiers = [(dt, \"Decision tree\"), (rf, \"Random forest\"), (neigh, \"K-Nearest neighbor\")]"
   ]
  },
  {
   "cell_type": "markdown",
   "metadata": {},
   "source": [
    "# Classifiers training"
   ]
  },
  {
   "cell_type": "code",
   "execution_count": null,
   "metadata": {},
   "outputs": [],
   "source": []
  },
  {
   "cell_type": "code",
   "execution_count": 17,
   "metadata": {},
   "outputs": [
    {
     "name": "stdout",
     "output_type": "stream",
     "text": [
      "Fold  1\n",
      "Classifier type:  Decision tree , Validation Accuracy =  0.9555555555555556\n",
      "Classifier type:  Random forest , Validation Accuracy =  1.0\n",
      "Classifier type:  K-Nearest neighbor , Validation Accuracy =  1.0\n",
      "\n",
      "\n",
      "Fold  2\n",
      "Classifier type:  Decision tree , Validation Accuracy =  0.9777777777777777\n",
      "Classifier type:  Random forest , Validation Accuracy =  1.0\n",
      "Classifier type:  K-Nearest neighbor , Validation Accuracy =  1.0\n",
      "\n",
      "\n",
      "Fold  3\n",
      "Classifier type:  Decision tree , Validation Accuracy =  0.9333333333333333\n",
      "Classifier type:  Random forest , Validation Accuracy =  1.0\n",
      "Classifier type:  K-Nearest neighbor , Validation Accuracy =  1.0\n",
      "\n",
      "\n",
      "Fold  4\n",
      "Classifier type:  Decision tree , Validation Accuracy =  0.9555555555555556\n",
      "Classifier type:  Random forest , Validation Accuracy =  0.9777777777777777\n",
      "Classifier type:  K-Nearest neighbor , Validation Accuracy =  1.0\n",
      "\n",
      "\n",
      "Fold  5\n",
      "Classifier type:  Decision tree , Validation Accuracy =  0.8888888888888888\n",
      "Classifier type:  Random forest , Validation Accuracy =  0.9555555555555556\n",
      "Classifier type:  K-Nearest neighbor , Validation Accuracy =  0.9555555555555556\n",
      "\n",
      "\n",
      "Fold  6\n",
      "Classifier type:  Decision tree , Validation Accuracy =  0.9555555555555556\n",
      "Classifier type:  Random forest , Validation Accuracy =  0.9777777777777777\n",
      "Classifier type:  K-Nearest neighbor , Validation Accuracy =  0.9777777777777777\n",
      "\n",
      "\n",
      "Fold  7\n",
      "Classifier type:  Decision tree , Validation Accuracy =  0.8666666666666667\n",
      "Classifier type:  Random forest , Validation Accuracy =  0.8666666666666667\n",
      "Classifier type:  K-Nearest neighbor , Validation Accuracy =  0.9333333333333333\n",
      "\n",
      "\n",
      "Fold  8\n",
      "Classifier type:  Decision tree , Validation Accuracy =  0.8888888888888888\n",
      "Classifier type:  Random forest , Validation Accuracy =  0.8888888888888888\n",
      "Classifier type:  K-Nearest neighbor , Validation Accuracy =  0.8888888888888888\n",
      "\n",
      "\n",
      "Fold  9\n",
      "Classifier type:  Decision tree , Validation Accuracy =  0.9777777777777777\n",
      "Classifier type:  Random forest , Validation Accuracy =  0.9777777777777777\n",
      "Classifier type:  K-Nearest neighbor , Validation Accuracy =  1.0\n",
      "\n",
      "\n",
      "Fold  10\n",
      "Classifier type:  Decision tree , Validation Accuracy =  0.9555555555555556\n",
      "Classifier type:  Random forest , Validation Accuracy =  0.9777777777777777\n",
      "Classifier type:  K-Nearest neighbor , Validation Accuracy =  0.9777777777777777\n",
      "\n",
      "\n"
     ]
    }
   ],
   "source": [
    "# Training classifiers using cross-validation\n",
    "fold_number = 1\n",
    "for train_indexes, valid_indexes in kf.split(x_train):\n",
    "    print(\"Fold \", fold_number)\n",
    "    for classifier, label in classifiers:\n",
    "        classifier.fit(x_train[train_indexes], y_train[train_indexes])\n",
    "        y_valid_pred = classifier.predict(x_train[valid_indexes])\n",
    "        print(\"Classifier type: \",label, \", Validation Accuracy = \", accuracy_score(y_train[valid_indexes], y_valid_pred))\n",
    "    print('\\n')\n",
    "    fold_number += 1\n"
   ]
  },
  {
   "cell_type": "code",
   "execution_count": 18,
   "metadata": {},
   "outputs": [
    {
     "name": "stdout",
     "output_type": "stream",
     "text": [
      "Classifier type:  Decision tree , Test Accuracy =  0.9399141630901288\n",
      "Classifier type:  Random forest , Test Accuracy =  0.9699570815450643\n",
      "Classifier type:  K-Nearest neighbor , Test Accuracy =  0.9828326180257511\n"
     ]
    }
   ],
   "source": [
    "# Testing classifiers\n",
    "for classifier, label in classifiers:\n",
    "    y_test_estimative = classifier.predict(x_test)\n",
    "    print(\"Classifier type: \", label, \", Test Accuracy = \", accuracy_score(y_test, y_test_estimative))"
   ]
  },
  {
   "cell_type": "markdown",
   "metadata": {},
   "source": [
    "# Confusion matrix calculation"
   ]
  },
  {
   "cell_type": "code",
   "execution_count": 19,
   "metadata": {},
   "outputs": [],
   "source": [
    "confusion_matrixes = np.zeros((len(classifiers), 4))\n",
    "for index, classifier_info in enumerate(classifiers):\n",
    "    confusion_matrixes[index,:] = np.array([confusion_matrix(outputs, classifier_info[0].predict(entries)).ravel()])"
   ]
  },
  {
   "cell_type": "code",
   "execution_count": 20,
   "metadata": {},
   "outputs": [
    {
     "data": {
      "text/plain": [
       "<Figure size 432x288 with 0 Axes>"
      ]
     },
     "metadata": {},
     "output_type": "display_data"
    },
    {
     "data": {
      "image/png": "[encoded data removed]",
      "text/plain": [
       "<Figure size 481.5x432 with 1 Axes>"
      ]
     },
     "metadata": {
      "needs_background": "light"
     },
     "output_type": "display_data"
    }
   ],
   "source": [
    "def plot_metrics(dataframe, metric_indexes, indexes_results, orientation, xlabel, ylabel):\n",
    "    classifier_labels = [\"Decision tree\", \"Random forest\", \"K-Nearest neighbor\"]\n",
    "    df_perf_results = pd.DataFrame(dataframe, columns=metric_indexes)\n",
    "    df_perf_results.insert(0, 'classifier_type', classifier_labels, True)\n",
    "    df_perf_results = pd.melt(df_perf_results, id_vars=['classifier_type'], value_vars=indexes_results, var_name='Metric')\n",
    "    \n",
    "    # Plot confusion matrixes for each classifier\n",
    "    plt.figure()\n",
    "    if orientation==\"h\":\n",
    "        x = \"value\"\n",
    "        y = \"classifier_type\"\n",
    "        gridon = \"x\"\n",
    "    else:\n",
    "        y = \"value\"\n",
    "        x = \"classifier_type\"\n",
    "        gridon = \"y\"\n",
    "    x = \"value\" if orientation==\"h\" else \"classifier_type\"\n",
    "    y = \"classifier_type\" if orientation==\"h\" else \"value\"\n",
    "    sns.catplot(data=df_perf_results, kind=\"bar\", orient=orientation, x=x, y=y, hue=\"Metric\", ci=\"sd\", palette=\"dark\", alpha=.6, height=6)\n",
    "    plt.ylabel(xlabel, fontsize=14)\n",
    "    plt.xlabel(ylabel, fontsize=14)\n",
    "    plt.grid(axis=gridon)\n",
    "    plt.show()\n",
    "\n",
    "# Generate dataset to plot using seaborn package\n",
    "indexes = [\"TP\", \"FN\", \"FP\", \"TN\"]\n",
    "indexes_result1 = [\"TP\", \"FP\", \"FN\", \"TN\"]\n",
    "\n",
    "plot_metrics(confusion_matrixes, indexes, indexes_result1, \"v\", \"Classifiers\", \"No. of samples\")"
   ]
  },
  {
   "cell_type": "code",
   "execution_count": 21,
   "metadata": {},
   "outputs": [
    {
     "data": {
      "text/html": [
       "<div>\n",
       "<style scoped>\n",
       "    .dataframe tbody tr th:only-of-type {\n",
       "        vertical-align: middle;\n",
       "    }\n",
       "\n",
       "    .dataframe tbody tr th {\n",
       "        vertical-align: top;\n",
       "    }\n",
       "\n",
       "    .dataframe thead th {\n",
       "        text-align: right;\n",
       "    }\n",
       "</style>\n",
       "<table border=\"1\" class=\"dataframe\">\n",
       "  <thead>\n",
       "    <tr style=\"text-align: right;\">\n",
       "      <th></th>\n",
       "      <th>Decision tree</th>\n",
       "      <th>Random forest</th>\n",
       "      <th>K-Nearest neighbor</th>\n",
       "    </tr>\n",
       "  </thead>\n",
       "  <tbody>\n",
       "    <tr>\n",
       "      <th>TP</th>\n",
       "      <td>441.0</td>\n",
       "      <td>441.0</td>\n",
       "      <td>437.0</td>\n",
       "    </tr>\n",
       "    <tr>\n",
       "      <th>FN</th>\n",
       "      <td>3.0</td>\n",
       "      <td>3.0</td>\n",
       "      <td>7.0</td>\n",
       "    </tr>\n",
       "    <tr>\n",
       "      <th>FP</th>\n",
       "      <td>13.0</td>\n",
       "      <td>7.0</td>\n",
       "      <td>7.0</td>\n",
       "    </tr>\n",
       "    <tr>\n",
       "      <th>TN</th>\n",
       "      <td>226.0</td>\n",
       "      <td>232.0</td>\n",
       "      <td>232.0</td>\n",
       "    </tr>\n",
       "  </tbody>\n",
       "</table>\n",
       "</div>"
      ],
      "text/plain": [
       "    Decision tree  Random forest  K-Nearest neighbor\n",
       "TP          441.0          441.0               437.0\n",
       "FN            3.0            3.0                 7.0\n",
       "FP           13.0            7.0                 7.0\n",
       "TN          226.0          232.0               232.0"
      ]
     },
     "execution_count": 21,
     "metadata": {},
     "output_type": "execute_result"
    }
   ],
   "source": [
    "df_confusion_matrixes = pd.DataFrame(confusion_matrixes, columns=indexes, index=[label for _, label in classifiers])\n",
    "df_confusion_matrixes.T"
   ]
  },
  {
   "cell_type": "markdown",
   "metadata": {},
   "source": [
    "# Calculates the performance metrics "
   ]
  },
  {
   "cell_type": "code",
   "execution_count": 22,
   "metadata": {},
   "outputs": [],
   "source": [
    "def perf_metrics(confusion_values):\n",
    "    # [0] = TP, [1] = FN , [2] = FP, [3] = TN\n",
    "    # 4.1 accuracy\n",
    "    accuracy = (confusion_values[0] + confusion_values[3]) / (np.sum(confusion_values))\n",
    "    # 4.2 precision\n",
    "    precision = confusion_values[0] / (confusion_values[0] + confusion_values[2])\n",
    "    # 4.3 specificity\n",
    "    specificity = confusion_values[3] / (confusion_values[3] + confusion_values[2])\n",
    "    # 4.4 TP rate\n",
    "    tp_rate = confusion_values[0] / (confusion_values[0] + confusion_values[1])\n",
    "    # 4.5 FP rate\n",
    "    fp_rate = confusion_values[2] / (confusion_values[2] + confusion_values[3])\n",
    "    # 4.6 NPV\n",
    "    npv = confusion_values[3] / (confusion_values[3] + confusion_values[1])\n",
    "    # 4.7 Rate of Misclassification\n",
    "    misclassification_rate = (confusion_values[2] + confusion_values[1]) / (np.sum(confusion_values))\n",
    "    # 4.8 F1 Score\n",
    "    f1_score = (precision * tp_rate) / (precision + tp_rate)\n",
    "\n",
    "    return np.array([accuracy, precision, specificity, tp_rate, fp_rate, npv, misclassification_rate, f1_score])\n",
    "\n",
    "perf_results = np.zeros((confusion_matrixes.shape[0], 8))\n",
    "for i in np.arange(confusion_matrixes.shape[0]):\n",
    "    perf_results[i,:] = perf_metrics(confusion_matrixes[i,:])"
   ]
  },
  {
   "cell_type": "code",
   "execution_count": 23,
   "metadata": {},
   "outputs": [
    {
     "data": {
      "text/plain": [
       "<Figure size 432x288 with 0 Axes>"
      ]
     },
     "metadata": {},
     "output_type": "display_data"
    },
    {
     "data": {
      "image/png": "[encoded data removed]",
      "text/plain": [
       "<Figure size 492.125x432 with 1 Axes>"
      ]
     },
     "metadata": {
      "needs_background": "light"
     },
     "output_type": "display_data"
    }
   ],
   "source": [
    "metric_indexes = [\"CA\", \"Pre\", \"Spec\", \"Rec\", \"FPR\", \"NPV\", \"RMC\", \"F1\"] # that stands for Classification accuracy, Precision, Specificity, Recall/TP rate, \n",
    "# False positive rate, negative predictive value, misclassification rate and F1, respectively.\n",
    "indexes_result2 = [\"RMC\", \"FPR\", \"NPV\", \"F1\", \"Spec\"]\n",
    "\n",
    "plot_metrics(perf_results, metric_indexes, indexes_result2, \"h\", \"No. of samples\", \"Classifiers\")"
   ]
  },
  {
   "cell_type": "code",
   "execution_count": 24,
   "metadata": {},
   "outputs": [
    {
     "data": {
      "text/html": [
       "<div>\n",
       "<style scoped>\n",
       "    .dataframe tbody tr th:only-of-type {\n",
       "        vertical-align: middle;\n",
       "    }\n",
       "\n",
       "    .dataframe tbody tr th {\n",
       "        vertical-align: top;\n",
       "    }\n",
       "\n",
       "    .dataframe thead th {\n",
       "        text-align: right;\n",
       "    }\n",
       "</style>\n",
       "<table border=\"1\" class=\"dataframe\">\n",
       "  <thead>\n",
       "    <tr style=\"text-align: right;\">\n",
       "      <th></th>\n",
       "      <th>Decision tree</th>\n",
       "      <th>Random forest</th>\n",
       "      <th>K-Nearest neighbor</th>\n",
       "    </tr>\n",
       "  </thead>\n",
       "  <tbody>\n",
       "    <tr>\n",
       "      <th>RMC</th>\n",
       "      <td>0.023426</td>\n",
       "      <td>0.014641</td>\n",
       "      <td>0.020498</td>\n",
       "    </tr>\n",
       "    <tr>\n",
       "      <th>FPR</th>\n",
       "      <td>0.054393</td>\n",
       "      <td>0.029289</td>\n",
       "      <td>0.029289</td>\n",
       "    </tr>\n",
       "    <tr>\n",
       "      <th>NPV</th>\n",
       "      <td>0.986900</td>\n",
       "      <td>0.987234</td>\n",
       "      <td>0.970711</td>\n",
       "    </tr>\n",
       "    <tr>\n",
       "      <th>F1</th>\n",
       "      <td>0.491091</td>\n",
       "      <td>0.494395</td>\n",
       "      <td>0.492117</td>\n",
       "    </tr>\n",
       "    <tr>\n",
       "      <th>Spec</th>\n",
       "      <td>0.945607</td>\n",
       "      <td>0.970711</td>\n",
       "      <td>0.970711</td>\n",
       "    </tr>\n",
       "  </tbody>\n",
       "</table>\n",
       "</div>"
      ],
      "text/plain": [
       "      Decision tree  Random forest  K-Nearest neighbor\n",
       "RMC        0.023426       0.014641            0.020498\n",
       "FPR        0.054393       0.029289            0.029289\n",
       "NPV        0.986900       0.987234            0.970711\n",
       "F1         0.491091       0.494395            0.492117\n",
       "Spec       0.945607       0.970711            0.970711"
      ]
     },
     "execution_count": 24,
     "metadata": {},
     "output_type": "execute_result"
    }
   ],
   "source": [
    "df_perf_results = pd.DataFrame(perf_results, columns=metric_indexes, index=[label for _, label in classifiers])\n",
    "df_perf_results[indexes_result2].T"
   ]
  },
  {
   "cell_type": "code",
   "execution_count": 25,
   "metadata": {},
   "outputs": [
    {
     "data": {
      "text/plain": [
       "<Figure size 432x288 with 0 Axes>"
      ]
     },
     "metadata": {},
     "output_type": "display_data"
    },
    {
     "data": {
      "image/png": "[encoded data removed]",
      "text/plain": [
       "<Figure size 486x432 with 1 Axes>"
      ]
     },
     "metadata": {
      "needs_background": "light"
     },
     "output_type": "display_data"
    }
   ],
   "source": [
    "indexes_result3 = [\"CA\", \"Pre\", \"Rec\"]\n",
    "plot_metrics(perf_results, metric_indexes, indexes_result3, \"h\", \"No. of samples\", \"Classifiers\")"
   ]
  },
  {
   "cell_type": "code",
   "execution_count": 26,
   "metadata": {},
   "outputs": [
    {
     "data": {
      "text/html": [
       "<div>\n",
       "<style scoped>\n",
       "    .dataframe tbody tr th:only-of-type {\n",
       "        vertical-align: middle;\n",
       "    }\n",
       "\n",
       "    .dataframe tbody tr th {\n",
       "        vertical-align: top;\n",
       "    }\n",
       "\n",
       "    .dataframe thead th {\n",
       "        text-align: right;\n",
       "    }\n",
       "</style>\n",
       "<table border=\"1\" class=\"dataframe\">\n",
       "  <thead>\n",
       "    <tr style=\"text-align: right;\">\n",
       "      <th></th>\n",
       "      <th>Decision tree</th>\n",
       "      <th>Random forest</th>\n",
       "      <th>K-Nearest neighbor</th>\n",
       "    </tr>\n",
       "  </thead>\n",
       "  <tbody>\n",
       "    <tr>\n",
       "      <th>CA</th>\n",
       "      <td>0.976574</td>\n",
       "      <td>0.985359</td>\n",
       "      <td>0.979502</td>\n",
       "    </tr>\n",
       "    <tr>\n",
       "      <th>Pre</th>\n",
       "      <td>0.971366</td>\n",
       "      <td>0.984375</td>\n",
       "      <td>0.984234</td>\n",
       "    </tr>\n",
       "    <tr>\n",
       "      <th>Rec</th>\n",
       "      <td>0.993243</td>\n",
       "      <td>0.993243</td>\n",
       "      <td>0.984234</td>\n",
       "    </tr>\n",
       "  </tbody>\n",
       "</table>\n",
       "</div>"
      ],
      "text/plain": [
       "     Decision tree  Random forest  K-Nearest neighbor\n",
       "CA        0.976574       0.985359            0.979502\n",
       "Pre       0.971366       0.984375            0.984234\n",
       "Rec       0.993243       0.993243            0.984234"
      ]
     },
     "execution_count": 26,
     "metadata": {},
     "output_type": "execute_result"
    }
   ],
   "source": [
    "df_perf_results = pd.DataFrame(perf_results, columns=metric_indexes, index=[label for _, label in classifiers])\n",
    "df_perf_results[indexes_result3].T"
   ]
  },
  {
   "cell_type": "markdown",
   "metadata": {},
   "source": [
    "# Create ROC Curves"
   ]
  },
  {
   "cell_type": "code",
   "execution_count": 27,
   "metadata": {
    "scrolled": true
   },
   "outputs": [],
   "source": [
    "# Code to create ROC curve\n",
    "\n",
    "fpr = dict()\n",
    "tpr = dict()\n",
    "roc_auc = dict()\n",
    "\n",
    "for index, classifier_info in enumerate(classifiers):\n",
    "    \n",
    "    fpr[classifier_info[1]], tpr[classifier_info[1]], _ = roc_curve(outputs, classifier_info[0].predict(entries))\n",
    "    roc_auc[classifier_info[1]] = auc(fpr[classifier_info[1]], tpr[classifier_info[1]])\n",
    "    "
   ]
  },
  {
   "cell_type": "markdown",
   "metadata": {},
   "source": [
    "# Plot ROC Curves"
   ]
  },
  {
   "cell_type": "code",
   "execution_count": 28,
   "metadata": {},
   "outputs": [
    {
     "data": {
      "image/png": "[encoded data removed]",
      "text/plain": [
       "<Figure size 432x288 with 1 Axes>"
      ]
     },
     "metadata": {
      "needs_background": "light"
     },
     "output_type": "display_data"
    },
    {
     "data": {
      "image/png": "[encoded data removed]",
      "text/plain": [
       "<Figure size 432x288 with 3 Axes>"
      ]
     },
     "metadata": {
      "needs_background": "light"
     },
     "output_type": "display_data"
    }
   ],
   "source": [
    "#plot curves\n",
    "plt.figure()\n",
    "lw = 2\n",
    "plt.plot(fpr[\"Decision tree\"], tpr[\"Decision tree\"], color='blue',\n",
    "         lw=lw, label='ROC curve (area = %0.2f)' % roc_auc[\"Decision tree\"])\n",
    "\n",
    "plt.plot(fpr[\"Random forest\"], tpr[\"Random forest\"], color='pink',\n",
    "         lw=lw, label='ROC curve (area = %0.2f)' % roc_auc[\"Random forest\"])\n",
    "\n",
    "plt.plot(fpr[\"K-Nearest neighbor\"], tpr[\"K-Nearest neighbor\"], color='darkcyan',\n",
    "         lw=lw, label='ROC curve (area = %0.2f)' % roc_auc[\"K-Nearest neighbor\"])\n",
    "\n",
    "plt.plot([0, 1], [0, 1], color='navy', lw=lw, linestyle='--')\n",
    "plt.xlim([0.0, 1.0])\n",
    "plt.ylim([0.0, 1.05])\n",
    "plt.xlabel('False Positive Rate')\n",
    "plt.ylabel('True Positive Rate')\n",
    "plt.legend(loc=\"lower right\")\n",
    "plt.show()\n",
    "\n",
    "#plot curves in subplots\n",
    "\n",
    "plt.figure()\n",
    "lw = 2\n",
    "\n",
    "############### 1\n",
    "plt.subplot(2, 2, 1)\n",
    "plt.plot(fpr[\"Decision tree\"], tpr[\"Decision tree\"], color='blue',\n",
    "         lw=lw, label='ROC curve (area = %0.2f)' % roc_auc[\"Decision tree\"])\n",
    "plt.plot([0, 1], [0, 1], color='navy', lw=lw, linestyle='--')\n",
    "plt.xlim([0.0, 1.0])\n",
    "plt.ylim([0.0, 1.05])\n",
    "plt.xlabel('False Positive Rate')\n",
    "plt.ylabel('True Positive Rate')\n",
    "plt.legend(loc=\"lower right\")\n",
    "\n",
    "############## 2\n",
    "plt.subplot(2, 2, 2)\n",
    "plt.plot(fpr[\"Random forest\"], tpr[\"Random forest\"], color='pink',\n",
    "         lw=lw, label='ROC curve (area = %0.2f)' % roc_auc[\"Random forest\"])\n",
    "plt.plot([0, 1], [0, 1], color='navy', lw=lw, linestyle='--')\n",
    "plt.xlim([0.0, 1.0])\n",
    "plt.ylim([0.0, 1.05])\n",
    "plt.xlabel('False Positive Rate')\n",
    "plt.ylabel('True Positive Rate')\n",
    "plt.legend(loc=\"lower right\")\n",
    "\n",
    "############ 3\n",
    "plt.subplot(2, 2, 3)\n",
    "plt.plot(fpr[\"K-Nearest neighbor\"], tpr[\"K-Nearest neighbor\"], color='darkcyan',\n",
    "         lw=lw, label='ROC curve (area = %0.2f)' % roc_auc[\"K-Nearest neighbor\"])\n",
    "\n",
    "plt.plot([0, 1], [0, 1], color='navy', lw=lw, linestyle='--')\n",
    "plt.xlim([0.0, 1.0])\n",
    "plt.ylim([0.0, 1.05])\n",
    "plt.xlabel('False Positive Rate')\n",
    "plt.ylabel('True Positive Rate')\n",
    "plt.legend(loc=\"lower right\")\n",
    "plt.show()"
   ]
  },
  {
   "cell_type": "markdown",
   "metadata": {},
   "source": [
    "# Paper negative points  (Let's make a list to use after)\n",
    "- Does not mention the null values present at `Bare_nuclei` atribute\n",
    "- Does not treat the proportion of benign and malign samples at training and test dataset\n",
    "- We assume that `ID` column is not used to the training, but paper seems to consider it\n",
    "- Normalization of entry values could improve the performance for some methods as NN\n",
    "- Use a repeated K-fold cross validation could improve the performance\n",
    "- Use grid-search to tune decision tree parameters could be implemented\n",
    "- Does not specify any of the Decision tree parameters used (or they just use the default implementation without set any parameters)\n",
    "- Calculates the decision matrix over the entire dataset\n",
    "- Authors didn't remove NaN values before calculate the correlation\n",
    "- Authors used the wrong labels at confusion matrixes of fig. 15, the right sequence is TN, FP, FN and TP.\n",
    "- Authors plotted 2 times the F1 at both figure 16 and 17, and forgot to plot precision, and also plot AUC"
   ]
  },
  {
   "cell_type": "code",
   "execution_count": null,
   "metadata": {},
   "outputs": [],
   "source": []
  },
  {
   "cell_type": "code",
   "execution_count": null,
   "metadata": {},
   "outputs": [],
   "source": []
  }
 ],
 "metadata": {
  "kernelspec": {
   "display_name": "Python 3",
   "language": "python",
   "name": "python3"
  },
  "language_info": {
   "codemirror_mode": {
    "name": "ipython",
    "version": 3
   },
   "file_extension": ".py",
   "mimetype": "text/x-python",
   "name": "python",
   "nbconvert_exporter": "python",
   "pygments_lexer": "ipython3",
   "version": "3.7.5"
  }
 },
 "nbformat": 4,
 "nbformat_minor": 2
}
